{
 "cells": [
  {
   "cell_type": "markdown",
   "id": "c441e4ca",
   "metadata": {},
   "source": [
    "# Assignment 2\n",
    "* In this assignment you will be working with three data files from iMDB:\n",
    "    * cast.csv\n",
    "    * release_dates.csv\n",
    "    * titles.csv\n",
    "* Using the appropriate file(s), answer the following questions\n",
    "* Some questions can be completed with one-liners while others are a bit more involved\n",
    "* Where appropriate, answers should also provide brief commentary\n",
    "* Exclude data that doen't make senss, i.e. data from the future\n",
    "* Once complete upload this notebook to your classwork Github repo and post the link on Canvas "
   ]
  },
  {
   "cell_type": "code",
   "execution_count": 3,
   "id": "e0bb579b-f649-4c85-a47c-2d329793de48",
   "metadata": {},
   "outputs": [],
   "source": [
    "import numpy as np\n",
    "import pandas as pd\n",
    "import matplotlib.pyplot as plt"
   ]
  },
  {
   "cell_type": "code",
   "execution_count": 5,
   "id": "f4594546",
   "metadata": {},
   "outputs": [],
   "source": [
    "titles  = pd.read_csv('titles.csv')\n",
    "cast    = pd.read_csv('cast.csv')\n",
    "release = pd.read_csv('release_dates.csv')\n",
    "release_dates = release"
   ]
  },
  {
   "cell_type": "markdown",
   "id": "7f3efd04",
   "metadata": {},
   "source": [
    "### 1. Conduct a high level assessment of the three data files, i.e. how many records are there, what kind of data, etc. Summarize your findings with annotation. "
   ]
  },
  {
   "cell_type": "code",
   "execution_count": 7,
   "id": "03bc8314",
   "metadata": {},
   "outputs": [
    {
     "data": {
      "text/html": [
       "<div>\n",
       "<style scoped>\n",
       "    .dataframe tbody tr th:only-of-type {\n",
       "        vertical-align: middle;\n",
       "    }\n",
       "\n",
       "    .dataframe tbody tr th {\n",
       "        vertical-align: top;\n",
       "    }\n",
       "\n",
       "    .dataframe thead th {\n",
       "        text-align: right;\n",
       "    }\n",
       "</style>\n",
       "<table border=\"1\" class=\"dataframe\">\n",
       "  <thead>\n",
       "    <tr style=\"text-align: right;\">\n",
       "      <th></th>\n",
       "      <th>File</th>\n",
       "      <th>Rows</th>\n",
       "      <th>Columns</th>\n",
       "      <th>Year Range</th>\n",
       "    </tr>\n",
       "  </thead>\n",
       "  <tbody>\n",
       "    <tr>\n",
       "      <th>0</th>\n",
       "      <td>titles.csv</td>\n",
       "      <td>226013</td>\n",
       "      <td>2</td>\n",
       "      <td>1894–2115</td>\n",
       "    </tr>\n",
       "    <tr>\n",
       "      <th>1</th>\n",
       "      <td>release_dates.csv</td>\n",
       "      <td>443486</td>\n",
       "      <td>4</td>\n",
       "      <td>1894–2115</td>\n",
       "    </tr>\n",
       "    <tr>\n",
       "      <th>2</th>\n",
       "      <td>cast.csv</td>\n",
       "      <td>3442902</td>\n",
       "      <td>6</td>\n",
       "      <td>1894–2115</td>\n",
       "    </tr>\n",
       "  </tbody>\n",
       "</table>\n",
       "</div>"
      ],
      "text/plain": [
       "                File     Rows  Columns Year Range\n",
       "0         titles.csv   226013        2  1894–2115\n",
       "1  release_dates.csv   443486        4  1894–2115\n",
       "2           cast.csv  3442902        6  1894–2115"
      ]
     },
     "metadata": {},
     "output_type": "display_data"
    }
   ],
   "source": [
    "summary = pd.DataFrame({\n",
    "    \"File\": [\"titles.csv\", \"release_dates.csv\", \"cast.csv\"],\n",
    "    \"Rows\": [len(titles), len(release), len(cast)],\n",
    "    \"Columns\": [titles.shape[1], release.shape[1], cast.shape[1]],\n",
    "    \"Year Range\": [\n",
    "        f\"{titles['year'].min()}–{titles['year'].max()}\",\n",
    "        f\"{release['year'].min()}–{release['year'].max()}\",\n",
    "        f\"{cast['year'].min()}–{cast['year'].max()}\",\n",
    "    ],\n",
    "})\n",
    "display(summary)"
   ]
  },
  {
   "cell_type": "code",
   "execution_count": 8,
   "id": "7dc0f869-a6b7-4b42-8517-7d5fa60300a0",
   "metadata": {},
   "outputs": [
    {
     "name": "stdout",
     "output_type": "stream",
     "text": [
      "\n",
      "Preview: titles.csv\n"
     ]
    },
    {
     "data": {
      "text/html": [
       "<div>\n",
       "<style scoped>\n",
       "    .dataframe tbody tr th:only-of-type {\n",
       "        vertical-align: middle;\n",
       "    }\n",
       "\n",
       "    .dataframe tbody tr th {\n",
       "        vertical-align: top;\n",
       "    }\n",
       "\n",
       "    .dataframe thead th {\n",
       "        text-align: right;\n",
       "    }\n",
       "</style>\n",
       "<table border=\"1\" class=\"dataframe\">\n",
       "  <thead>\n",
       "    <tr style=\"text-align: right;\">\n",
       "      <th></th>\n",
       "      <th>title</th>\n",
       "      <th>year</th>\n",
       "    </tr>\n",
       "  </thead>\n",
       "  <tbody>\n",
       "    <tr>\n",
       "      <th>0</th>\n",
       "      <td>Ankara ekspresi</td>\n",
       "      <td>1952</td>\n",
       "    </tr>\n",
       "    <tr>\n",
       "      <th>1</th>\n",
       "      <td>Ans Vaterland, ans teure</td>\n",
       "      <td>1915</td>\n",
       "    </tr>\n",
       "    <tr>\n",
       "      <th>2</th>\n",
       "      <td>Miss Mohini</td>\n",
       "      <td>2002</td>\n",
       "    </tr>\n",
       "    <tr>\n",
       "      <th>3</th>\n",
       "      <td>La vera madre</td>\n",
       "      <td>1999</td>\n",
       "    </tr>\n",
       "    <tr>\n",
       "      <th>4</th>\n",
       "      <td>O Amerikanos</td>\n",
       "      <td>1993</td>\n",
       "    </tr>\n",
       "  </tbody>\n",
       "</table>\n",
       "</div>"
      ],
      "text/plain": [
       "                      title  year\n",
       "0           Ankara ekspresi  1952\n",
       "1  Ans Vaterland, ans teure  1915\n",
       "2               Miss Mohini  2002\n",
       "3             La vera madre  1999\n",
       "4              O Amerikanos  1993"
      ]
     },
     "metadata": {},
     "output_type": "display_data"
    },
    {
     "name": "stdout",
     "output_type": "stream",
     "text": [
      "\n",
      "Preview: release_dates.csv\n"
     ]
    },
    {
     "data": {
      "text/html": [
       "<div>\n",
       "<style scoped>\n",
       "    .dataframe tbody tr th:only-of-type {\n",
       "        vertical-align: middle;\n",
       "    }\n",
       "\n",
       "    .dataframe tbody tr th {\n",
       "        vertical-align: top;\n",
       "    }\n",
       "\n",
       "    .dataframe thead th {\n",
       "        text-align: right;\n",
       "    }\n",
       "</style>\n",
       "<table border=\"1\" class=\"dataframe\">\n",
       "  <thead>\n",
       "    <tr style=\"text-align: right;\">\n",
       "      <th></th>\n",
       "      <th>title</th>\n",
       "      <th>year</th>\n",
       "      <th>country</th>\n",
       "      <th>date</th>\n",
       "    </tr>\n",
       "  </thead>\n",
       "  <tbody>\n",
       "    <tr>\n",
       "      <th>0</th>\n",
       "      <td>#73, Shaanthi Nivaasa</td>\n",
       "      <td>2007</td>\n",
       "      <td>India</td>\n",
       "      <td>2007-06-15</td>\n",
       "    </tr>\n",
       "    <tr>\n",
       "      <th>1</th>\n",
       "      <td>#BKKY</td>\n",
       "      <td>2016</td>\n",
       "      <td>Cambodia</td>\n",
       "      <td>2017-10-12</td>\n",
       "    </tr>\n",
       "    <tr>\n",
       "      <th>2</th>\n",
       "      <td>#Beings</td>\n",
       "      <td>2015</td>\n",
       "      <td>Romania</td>\n",
       "      <td>2015-01-29</td>\n",
       "    </tr>\n",
       "    <tr>\n",
       "      <th>3</th>\n",
       "      <td>#Captured</td>\n",
       "      <td>2017</td>\n",
       "      <td>USA</td>\n",
       "      <td>2017-09-05</td>\n",
       "    </tr>\n",
       "    <tr>\n",
       "      <th>4</th>\n",
       "      <td>#Ewankosau saranghaeyo</td>\n",
       "      <td>2015</td>\n",
       "      <td>Philippines</td>\n",
       "      <td>2015-01-21</td>\n",
       "    </tr>\n",
       "  </tbody>\n",
       "</table>\n",
       "</div>"
      ],
      "text/plain": [
       "                    title  year      country        date\n",
       "0   #73, Shaanthi Nivaasa  2007        India  2007-06-15\n",
       "1                   #BKKY  2016     Cambodia  2017-10-12\n",
       "2                 #Beings  2015      Romania  2015-01-29\n",
       "3               #Captured  2017          USA  2017-09-05\n",
       "4  #Ewankosau saranghaeyo  2015  Philippines  2015-01-21"
      ]
     },
     "metadata": {},
     "output_type": "display_data"
    },
    {
     "name": "stdout",
     "output_type": "stream",
     "text": [
      "\n",
      "Preview: cast.csv\n"
     ]
    },
    {
     "data": {
      "text/html": [
       "<div>\n",
       "<style scoped>\n",
       "    .dataframe tbody tr th:only-of-type {\n",
       "        vertical-align: middle;\n",
       "    }\n",
       "\n",
       "    .dataframe tbody tr th {\n",
       "        vertical-align: top;\n",
       "    }\n",
       "\n",
       "    .dataframe thead th {\n",
       "        text-align: right;\n",
       "    }\n",
       "</style>\n",
       "<table border=\"1\" class=\"dataframe\">\n",
       "  <thead>\n",
       "    <tr style=\"text-align: right;\">\n",
       "      <th></th>\n",
       "      <th>title</th>\n",
       "      <th>year</th>\n",
       "      <th>name</th>\n",
       "      <th>type</th>\n",
       "      <th>character</th>\n",
       "      <th>n</th>\n",
       "    </tr>\n",
       "  </thead>\n",
       "  <tbody>\n",
       "    <tr>\n",
       "      <th>0</th>\n",
       "      <td>Closet Monster</td>\n",
       "      <td>2015</td>\n",
       "      <td>Buffy #1</td>\n",
       "      <td>actor</td>\n",
       "      <td>Buffy 4</td>\n",
       "      <td>31.0</td>\n",
       "    </tr>\n",
       "    <tr>\n",
       "      <th>1</th>\n",
       "      <td>Suuri illusioni</td>\n",
       "      <td>1985</td>\n",
       "      <td>Homo $</td>\n",
       "      <td>actor</td>\n",
       "      <td>Guests</td>\n",
       "      <td>22.0</td>\n",
       "    </tr>\n",
       "    <tr>\n",
       "      <th>2</th>\n",
       "      <td>Battle of the Sexes</td>\n",
       "      <td>2017</td>\n",
       "      <td>$hutter</td>\n",
       "      <td>actor</td>\n",
       "      <td>Bobby Riggs Fan</td>\n",
       "      <td>10.0</td>\n",
       "    </tr>\n",
       "    <tr>\n",
       "      <th>3</th>\n",
       "      <td>Secret in Their Eyes</td>\n",
       "      <td>2015</td>\n",
       "      <td>$hutter</td>\n",
       "      <td>actor</td>\n",
       "      <td>2002 Dodger Fan</td>\n",
       "      <td>NaN</td>\n",
       "    </tr>\n",
       "    <tr>\n",
       "      <th>4</th>\n",
       "      <td>Steve Jobs</td>\n",
       "      <td>2015</td>\n",
       "      <td>$hutter</td>\n",
       "      <td>actor</td>\n",
       "      <td>1988 Opera House Patron</td>\n",
       "      <td>NaN</td>\n",
       "    </tr>\n",
       "  </tbody>\n",
       "</table>\n",
       "</div>"
      ],
      "text/plain": [
       "                  title  year      name   type                character     n\n",
       "0        Closet Monster  2015  Buffy #1  actor                  Buffy 4  31.0\n",
       "1       Suuri illusioni  1985    Homo $  actor                   Guests  22.0\n",
       "2   Battle of the Sexes  2017   $hutter  actor          Bobby Riggs Fan  10.0\n",
       "3  Secret in Their Eyes  2015   $hutter  actor          2002 Dodger Fan   NaN\n",
       "4            Steve Jobs  2015   $hutter  actor  1988 Opera House Patron   NaN"
      ]
     },
     "metadata": {},
     "output_type": "display_data"
    }
   ],
   "source": [
    "print(\"\\nPreview: titles.csv\")\n",
    "display(titles.head())\n",
    "\n",
    "print(\"\\nPreview: release_dates.csv\")\n",
    "display(release.head())\n",
    "\n",
    "print(\"\\nPreview: cast.csv\")\n",
    "display(cast.head())"
   ]
  },
  {
   "cell_type": "code",
   "execution_count": 9,
   "id": "baecd2ba-f051-4719-9cd0-f9a4383c7018",
   "metadata": {},
   "outputs": [
    {
     "name": "stdout",
     "output_type": "stream",
     "text": [
      "<class 'pandas.core.frame.DataFrame'>\n",
      "RangeIndex: 226013 entries, 0 to 226012\n",
      "Data columns (total 2 columns):\n",
      " #   Column  Non-Null Count   Dtype \n",
      "---  ------  --------------   ----- \n",
      " 0   title   226012 non-null  object\n",
      " 1   year    226013 non-null  int64 \n",
      "dtypes: int64(1), object(1)\n",
      "memory usage: 3.4+ MB\n"
     ]
    }
   ],
   "source": [
    "titles.info()"
   ]
  },
  {
   "cell_type": "code",
   "execution_count": 10,
   "id": "469cdeef-2196-422b-b7ce-639ef220b354",
   "metadata": {},
   "outputs": [
    {
     "name": "stdout",
     "output_type": "stream",
     "text": [
      "<class 'pandas.core.frame.DataFrame'>\n",
      "RangeIndex: 3442902 entries, 0 to 3442901\n",
      "Data columns (total 6 columns):\n",
      " #   Column     Dtype  \n",
      "---  ------     -----  \n",
      " 0   title      object \n",
      " 1   year       int64  \n",
      " 2   name       object \n",
      " 3   type       object \n",
      " 4   character  object \n",
      " 5   n          float64\n",
      "dtypes: float64(1), int64(1), object(4)\n",
      "memory usage: 157.6+ MB\n"
     ]
    }
   ],
   "source": [
    "cast.info()"
   ]
  },
  {
   "cell_type": "code",
   "execution_count": 11,
   "id": "d6762048-8445-41a5-9962-4db5d62cf432",
   "metadata": {},
   "outputs": [
    {
     "name": "stdout",
     "output_type": "stream",
     "text": [
      "<class 'pandas.core.frame.DataFrame'>\n",
      "RangeIndex: 443486 entries, 0 to 443485\n",
      "Data columns (total 4 columns):\n",
      " #   Column   Non-Null Count   Dtype \n",
      "---  ------   --------------   ----- \n",
      " 0   title    443485 non-null  object\n",
      " 1   year     443486 non-null  int64 \n",
      " 2   country  443486 non-null  object\n",
      " 3   date     443486 non-null  object\n",
      "dtypes: int64(1), object(3)\n",
      "memory usage: 13.5+ MB\n"
     ]
    }
   ],
   "source": [
    "release.info()"
   ]
  },
  {
   "cell_type": "markdown",
   "id": "8949aee1",
   "metadata": {},
   "source": [
    "### 2. How many movies have the title North by Northwest"
   ]
  },
  {
   "cell_type": "code",
   "execution_count": 13,
   "id": "712cba84",
   "metadata": {},
   "outputs": [
    {
     "name": "stdout",
     "output_type": "stream",
     "text": [
      "Number of movies titled 'North by Northwest': 1\n"
     ]
    }
   ],
   "source": [
    "nbnw_count = (titles['title'] == 'North by Northwest').sum()\n",
    "print(f\"Number of movies titled 'North by Northwest': {nbnw_count}\")"
   ]
  },
  {
   "cell_type": "markdown",
   "id": "651191f3",
   "metadata": {},
   "source": [
    "### 3. How many version of Hamlet are there, when was the first made? the last?"
   ]
  },
  {
   "cell_type": "code",
   "execution_count": 15,
   "id": "1e421672",
   "metadata": {},
   "outputs": [
    {
     "name": "stdout",
     "output_type": "stream",
     "text": [
      "Number of versions of 'Hamlet': 20\n",
      "First version year: 1910\n",
      "Most recent version year: 2017\n"
     ]
    },
    {
     "data": {
      "text/html": [
       "<div>\n",
       "<style scoped>\n",
       "    .dataframe tbody tr th:only-of-type {\n",
       "        vertical-align: middle;\n",
       "    }\n",
       "\n",
       "    .dataframe tbody tr th {\n",
       "        vertical-align: top;\n",
       "    }\n",
       "\n",
       "    .dataframe thead th {\n",
       "        text-align: right;\n",
       "    }\n",
       "</style>\n",
       "<table border=\"1\" class=\"dataframe\">\n",
       "  <thead>\n",
       "    <tr style=\"text-align: right;\">\n",
       "      <th></th>\n",
       "      <th>title</th>\n",
       "      <th>year</th>\n",
       "    </tr>\n",
       "  </thead>\n",
       "  <tbody>\n",
       "    <tr>\n",
       "      <th>79939</th>\n",
       "      <td>Hamlet</td>\n",
       "      <td>1910</td>\n",
       "    </tr>\n",
       "    <tr>\n",
       "      <th>129673</th>\n",
       "      <td>Hamlet</td>\n",
       "      <td>1911</td>\n",
       "    </tr>\n",
       "    <tr>\n",
       "      <th>164637</th>\n",
       "      <td>Hamlet</td>\n",
       "      <td>1913</td>\n",
       "    </tr>\n",
       "    <tr>\n",
       "      <th>221419</th>\n",
       "      <td>Hamlet</td>\n",
       "      <td>1921</td>\n",
       "    </tr>\n",
       "    <tr>\n",
       "      <th>221201</th>\n",
       "      <td>Hamlet</td>\n",
       "      <td>1948</td>\n",
       "    </tr>\n",
       "    <tr>\n",
       "      <th>220568</th>\n",
       "      <td>Hamlet</td>\n",
       "      <td>1954</td>\n",
       "    </tr>\n",
       "    <tr>\n",
       "      <th>113670</th>\n",
       "      <td>Hamlet</td>\n",
       "      <td>1964</td>\n",
       "    </tr>\n",
       "    <tr>\n",
       "      <th>73929</th>\n",
       "      <td>Hamlet</td>\n",
       "      <td>1969</td>\n",
       "    </tr>\n",
       "    <tr>\n",
       "      <th>204180</th>\n",
       "      <td>Hamlet</td>\n",
       "      <td>1973</td>\n",
       "    </tr>\n",
       "    <tr>\n",
       "      <th>64116</th>\n",
       "      <td>Hamlet</td>\n",
       "      <td>1976</td>\n",
       "    </tr>\n",
       "    <tr>\n",
       "      <th>144085</th>\n",
       "      <td>Hamlet</td>\n",
       "      <td>1987</td>\n",
       "    </tr>\n",
       "    <tr>\n",
       "      <th>174856</th>\n",
       "      <td>Hamlet</td>\n",
       "      <td>1990</td>\n",
       "    </tr>\n",
       "    <tr>\n",
       "      <th>213476</th>\n",
       "      <td>Hamlet</td>\n",
       "      <td>1996</td>\n",
       "    </tr>\n",
       "    <tr>\n",
       "      <th>141682</th>\n",
       "      <td>Hamlet</td>\n",
       "      <td>2000</td>\n",
       "    </tr>\n",
       "    <tr>\n",
       "      <th>25028</th>\n",
       "      <td>Hamlet</td>\n",
       "      <td>2009</td>\n",
       "    </tr>\n",
       "    <tr>\n",
       "      <th>137240</th>\n",
       "      <td>Hamlet</td>\n",
       "      <td>2011</td>\n",
       "    </tr>\n",
       "    <tr>\n",
       "      <th>118331</th>\n",
       "      <td>Hamlet</td>\n",
       "      <td>2014</td>\n",
       "    </tr>\n",
       "    <tr>\n",
       "      <th>109822</th>\n",
       "      <td>Hamlet</td>\n",
       "      <td>2015</td>\n",
       "    </tr>\n",
       "    <tr>\n",
       "      <th>186870</th>\n",
       "      <td>Hamlet</td>\n",
       "      <td>2016</td>\n",
       "    </tr>\n",
       "    <tr>\n",
       "      <th>208380</th>\n",
       "      <td>Hamlet</td>\n",
       "      <td>2017</td>\n",
       "    </tr>\n",
       "  </tbody>\n",
       "</table>\n",
       "</div>"
      ],
      "text/plain": [
       "         title  year\n",
       "79939   Hamlet  1910\n",
       "129673  Hamlet  1911\n",
       "164637  Hamlet  1913\n",
       "221419  Hamlet  1921\n",
       "221201  Hamlet  1948\n",
       "220568  Hamlet  1954\n",
       "113670  Hamlet  1964\n",
       "73929   Hamlet  1969\n",
       "204180  Hamlet  1973\n",
       "64116   Hamlet  1976\n",
       "144085  Hamlet  1987\n",
       "174856  Hamlet  1990\n",
       "213476  Hamlet  1996\n",
       "141682  Hamlet  2000\n",
       "25028   Hamlet  2009\n",
       "137240  Hamlet  2011\n",
       "118331  Hamlet  2014\n",
       "109822  Hamlet  2015\n",
       "186870  Hamlet  2016\n",
       "208380  Hamlet  2017"
      ]
     },
     "metadata": {},
     "output_type": "display_data"
    }
   ],
   "source": [
    "hamlet = titles[titles['title'] == 'Hamlet']\n",
    "\n",
    "# Summary stats\n",
    "hamlet_count = len(hamlet)\n",
    "hamlet_first = int(hamlet['year'].min())\n",
    "hamlet_last  = int(hamlet['year'].max())\n",
    "\n",
    "\n",
    "# Print\n",
    "print(f\"Number of versions of 'Hamlet': {hamlet_count}\")\n",
    "print(f\"First version year: {hamlet_first}\")\n",
    "print(f\"Most recent version year: {hamlet_last}\")\n",
    "\n",
    "#'Hamlet' movies sorted by year\n",
    "display(hamlet.sort_values('year'))"
   ]
  },
  {
   "cell_type": "markdown",
   "id": "5650b610",
   "metadata": {},
   "source": [
    "#### 4. List all the movies called Treasure Island from oldest to newest"
   ]
  },
  {
   "cell_type": "code",
   "execution_count": 25,
   "id": "636611d9",
   "metadata": {},
   "outputs": [
    {
     "name": "stdout",
     "output_type": "stream",
     "text": [
      "Total 'Treasure Island' titles: 8\n"
     ]
    },
    {
     "data": {
      "text/html": [
       "<div>\n",
       "<style scoped>\n",
       "    .dataframe tbody tr th:only-of-type {\n",
       "        vertical-align: middle;\n",
       "    }\n",
       "\n",
       "    .dataframe tbody tr th {\n",
       "        vertical-align: top;\n",
       "    }\n",
       "\n",
       "    .dataframe thead th {\n",
       "        text-align: right;\n",
       "    }\n",
       "</style>\n",
       "<table border=\"1\" class=\"dataframe\">\n",
       "  <thead>\n",
       "    <tr style=\"text-align: right;\">\n",
       "      <th></th>\n",
       "      <th>title</th>\n",
       "      <th>year</th>\n",
       "    </tr>\n",
       "  </thead>\n",
       "  <tbody>\n",
       "    <tr>\n",
       "      <th>180911</th>\n",
       "      <td>Treasure Island</td>\n",
       "      <td>1918</td>\n",
       "    </tr>\n",
       "    <tr>\n",
       "      <th>108853</th>\n",
       "      <td>Treasure Island</td>\n",
       "      <td>1920</td>\n",
       "    </tr>\n",
       "    <tr>\n",
       "      <th>87953</th>\n",
       "      <td>Treasure Island</td>\n",
       "      <td>1934</td>\n",
       "    </tr>\n",
       "    <tr>\n",
       "      <th>126321</th>\n",
       "      <td>Treasure Island</td>\n",
       "      <td>1950</td>\n",
       "    </tr>\n",
       "    <tr>\n",
       "      <th>190233</th>\n",
       "      <td>Treasure Island</td>\n",
       "      <td>1972</td>\n",
       "    </tr>\n",
       "    <tr>\n",
       "      <th>122150</th>\n",
       "      <td>Treasure Island</td>\n",
       "      <td>1973</td>\n",
       "    </tr>\n",
       "    <tr>\n",
       "      <th>52099</th>\n",
       "      <td>Treasure Island</td>\n",
       "      <td>1985</td>\n",
       "    </tr>\n",
       "    <tr>\n",
       "      <th>36752</th>\n",
       "      <td>Treasure Island</td>\n",
       "      <td>1999</td>\n",
       "    </tr>\n",
       "  </tbody>\n",
       "</table>\n",
       "</div>"
      ],
      "text/plain": [
       "                  title  year\n",
       "180911  Treasure Island  1918\n",
       "108853  Treasure Island  1920\n",
       "87953   Treasure Island  1934\n",
       "126321  Treasure Island  1950\n",
       "190233  Treasure Island  1972\n",
       "122150  Treasure Island  1973\n",
       "52099   Treasure Island  1985\n",
       "36752   Treasure Island  1999"
      ]
     },
     "metadata": {},
     "output_type": "display_data"
    }
   ],
   "source": [
    "ti = titles[titles[\"title\"] == \"Treasure Island\"].sort_values('year')\n",
    "print(f\"Total 'Treasure Island' titles: {len(ti)}\")\n",
    "\n",
    "display(ti)"
   ]
  },
  {
   "cell_type": "markdown",
   "id": "a94f4524",
   "metadata": {},
   "source": [
    "### 5. How many movies were made in 1950? 1980? 2000? What conclusions can you draw from these data points?"
   ]
  },
  {
   "cell_type": "code",
   "execution_count": 28,
   "id": "8d44bdb2",
   "metadata": {},
   "outputs": [
    {
     "name": "stdout",
     "output_type": "stream",
     "text": [
      "Movies made in selected years:\n",
      "year\n",
      "2000    2568\n",
      "1980    1750\n",
      "1950    1109\n",
      "Name: count, dtype: int64\n"
     ]
    }
   ],
   "source": [
    "counts = titles[(titles[\"year\"] == 1950) | \n",
    "                (titles[\"year\"] == 1980) | \n",
    "                (titles[\"year\"] == 2000)][\"year\"].value_counts()\n",
    "\n",
    "print(\"Movies made in selected years:\")\n",
    "print(counts)"
   ]
  },
  {
   "cell_type": "markdown",
   "id": "632b1cfa-70b6-4689-b04e-25d375e4a162",
   "metadata": {},
   "source": [
    "The number of films produced increased substantially over time. In 1950, there were approx. 1100 films released, compared to around 1750 in 1980 and about 2560 in 2000. This upward trend suggests that the film industry expanded  and grew over the second half of the 20th century, due to various reasons such as improvements in production technology, increased global demand for entertainment, and the growth of international and independent film spaces."
   ]
  },
  {
   "cell_type": "markdown",
   "id": "0c34799c",
   "metadata": {},
   "source": [
    "### 6. How big was the cast of Metropolis\n"
   ]
  },
  {
   "cell_type": "code",
   "execution_count": 32,
   "id": "4461cc46",
   "metadata": {},
   "outputs": [
    {
     "name": "stdout",
     "output_type": "stream",
     "text": [
      "The cast of 'Metropolis' had 31 members.\n"
     ]
    }
   ],
   "source": [
    "# Cast data for Metropolis\n",
    "metropolis_cast = cast[cast[\"title\"] == \"Metropolis\"]\n",
    "\n",
    "# Count of cast members\n",
    "cast_size = metropolis_cast[\"name\"].nunique()\n",
    "\n",
    "print(f\"The cast of 'Metropolis' had {cast_size} members.\")"
   ]
  },
  {
   "cell_type": "markdown",
   "id": "7dead3d7",
   "metadata": {},
   "source": [
    "### 7. How many roles for actors were there 1950's? 1990's"
   ]
  },
  {
   "cell_type": "code",
   "execution_count": 35,
   "id": "9f7336d3",
   "metadata": {},
   "outputs": [
    {
     "name": "stdout",
     "output_type": "stream",
     "text": [
      "Actor roles in the 1950s: 153559\n",
      "Actor roles in the 1990s: 245713\n"
     ]
    }
   ],
   "source": [
    "roles_1950s = cast[(cast[\"type\"] == \"actor\") & (cast[\"year\"] >= 1950) & (cast[\"year\"] <= 1959)]\n",
    "roles_1990s = cast[(cast[\"type\"] == \"actor\") & (cast[\"year\"] >= 1990) & (cast[\"year\"] <= 1999)]\n",
    "\n",
    "count_1950s = len(roles_1950s)\n",
    "count_1990s = len(roles_1990s)\n",
    "\n",
    "print(\"Actor roles in the 1950s:\", count_1950s)\n",
    "print(\"Actor roles in the 1990s:\", count_1990s)"
   ]
  },
  {
   "cell_type": "markdown",
   "id": "3c5ad9f2",
   "metadata": {},
   "source": [
    "### 8. How many roles for actors & actresses over time? Output should be a line graph"
   ]
  },
  {
   "cell_type": "code",
   "execution_count": 38,
   "id": "a4401c78",
   "metadata": {},
   "outputs": [
    {
     "data": {
      "image/png": "[encoded data removed]",
      "text/plain": [
       "<Figure size 800x400 with 1 Axes>"
      ]
     },
     "metadata": {},
     "output_type": "display_data"
    }
   ],
   "source": [
    "# Filter for actor/actress roles\n",
    "roles = cast[cast[\"type\"].isin([\"actor\", \"actress\"])]\n",
    "\n",
    "# Roles per year\n",
    "roles_by_year = roles.groupby(\"year\")[\"name\"].count().sort_index()\n",
    "\n",
    "# Plotting graph\n",
    "plt.figure(figsize=(8, 4))\n",
    "plt.plot(roles_by_year.index, roles_by_year.values, color=\"teal\", linewidth=2)\n",
    "plt.title(\"Actor & Actress Roles Over Time\")\n",
    "plt.xlabel(\"Year\")\n",
    "plt.ylabel(\"Number of Roles\")\n",
    "plt.grid(True, linestyle=\"--\", alpha=0.6)\n",
    "plt.tight_layout()\n",
    "plt.show()"
   ]
  },
  {
   "cell_type": "markdown",
   "id": "5e3a04c7",
   "metadata": {},
   "source": [
    "### 9. How many \"leading roles\" were there in the 2000's?"
   ]
  },
  {
   "cell_type": "code",
   "execution_count": 41,
   "id": "01cc5e7f",
   "metadata": {},
   "outputs": [
    {
     "name": "stdout",
     "output_type": "stream",
     "text": [
      "Number of leading roles in the 2000s: 23593\n"
     ]
    }
   ],
   "source": [
    "leading_roles_2000s = cast[(cast[\"year\"] >= 2000) & (cast[\"year\"] <= 2009) & (cast[\"n\"] == 1.0)]\n",
    "\n",
    "count_leading_roles = len(leading_roles_2000s)\n",
    "\n",
    "print(f\"Number of leading roles in the 2000s: {count_leading_roles}\")"
   ]
  },
  {
   "cell_type": "markdown",
   "id": "a60c91b4",
   "metadata": {},
   "source": [
    "### 10. How many roles received no ranking in the 2000's? 1950's. What conclusions can you draw from these two data points?"
   ]
  },
  {
   "cell_type": "code",
   "execution_count": 44,
   "id": "9b94bc9d-ac75-4a14-8709-53f94a4c28dc",
   "metadata": {},
   "outputs": [
    {
     "name": "stdout",
     "output_type": "stream",
     "text": [
      "Unranked roles in the 2000s: 232037\n",
      "Unranked roles in the 1950s: 95406\n"
     ]
    }
   ],
   "source": [
    "no_rank_2000s = cast[(cast['year'].between(2000,2009)) & (cast['n'].isnull())].shape[0]\n",
    "no_rank_1950s = cast[(cast['year'].between(1950,1959)) & (cast['n'].isnull())].shape[0]\n",
    "no_rank_2000s, no_rank_1950s\n",
    "\n",
    "print(f\"Unranked roles in the 2000s: {no_rank_2000s}\")\n",
    "print(f\"Unranked roles in the 1950s: {no_rank_1950s}\")"
   ]
  },
  {
   "cell_type": "markdown",
   "id": "3e3bb9d2-fe7c-434a-ac36-d1647e042785",
   "metadata": {},
   "source": [
    "There were far more unranked roles in the 2000s (~232k) compared to the 1950s (~95k). This suggests that cast lists in more recent decades include more minor, background, or uncredited roles. It can also be that films in the 2000s tended to have larger casts and which made it hard to keep track of everyone and now we have better tools for that."
   ]
  },
  {
   "cell_type": "markdown",
   "id": "33d9c249",
   "metadata": {},
   "source": [
    "### 11. Plot the number of films made in each decade"
   ]
  },
  {
   "cell_type": "code",
   "execution_count": 48,
   "id": "3f6c5b5a",
   "metadata": {
    "scrolled": true
   },
   "outputs": [
    {
     "data": {
      "image/png": "[encoded data removed]",
      "text/plain": [
       "<Figure size 800x400 with 1 Axes>"
      ]
     },
     "metadata": {},
     "output_type": "display_data"
    }
   ],
   "source": [
    "titles['decade'] = titles['year'] // 10 * 10\n",
    "decade_counts = titles.groupby('decade')['title'].count().sort_index()\n",
    "\n",
    "# Plotting graph\n",
    "plt.figure(figsize=(8,4))\n",
    "decade_counts.plot(kind=\"bar\")\n",
    "plt.title(\"Number of Films per Decade\")\n",
    "plt.xlabel(\"Decade\")\n",
    "plt.ylabel(\"Film Count\")\n",
    "plt.xticks(rotation=45)\n",
    "plt.tight_layout()\n",
    "plt.show()"
   ]
  },
  {
   "cell_type": "markdown",
   "id": "7b8b93e3",
   "metadata": {},
   "source": [
    "### 12. Plot the number of films with a Rustler character over time"
   ]
  },
  {
   "cell_type": "code",
   "execution_count": 51,
   "id": "ed1bce02",
   "metadata": {},
   "outputs": [
    {
     "data": {
      "image/png": "[encoded data removed]",
      "text/plain": [
       "<Figure size 800x400 with 1 Axes>"
      ]
     },
     "metadata": {},
     "output_type": "display_data"
    }
   ],
   "source": [
    "rustler = cast[cast[\"character\"] == \"Rustler\"]\n",
    "counts_by_year = rustler.groupby(\"year\")[\"title\"].nunique().sort_index()\n",
    "\n",
    "\n",
    "# Plotting graph\n",
    "plt.figure(figsize=(8,4))\n",
    "plt.plot(counts_by_year.index, counts_by_year.values)\n",
    "plt.title('Films Featuring a \"Rustler\" Character Over Time')\n",
    "plt.xlabel('Year'); plt.ylabel('Number of Films')\n",
    "plt.tight_layout(); plt.show()\n"
   ]
  },
  {
   "cell_type": "markdown",
   "id": "1df5a8a7",
   "metadata": {},
   "source": [
    "### 13. What are the top ten character names of all time?"
   ]
  },
  {
   "cell_type": "code",
   "execution_count": 54,
   "id": "fc30c391",
   "metadata": {},
   "outputs": [
    {
     "name": "stdout",
     "output_type": "stream",
     "text": [
      "character\n",
      "Himself        19637\n",
      "Dancer         12019\n",
      "Extra          10848\n",
      "Reporter        7818\n",
      "Doctor          6963\n",
      "Party Guest     6786\n",
      "Student         6631\n",
      "Policeman       6424\n",
      "Bartender       6290\n",
      "Herself         6269\n",
      "Name: count, dtype: int64\n"
     ]
    }
   ],
   "source": [
    "top_characters = cast[\"character\"].value_counts().head(10)\n",
    "print(top_characters)"
   ]
  },
  {
   "cell_type": "markdown",
   "id": "febd5c97",
   "metadata": {},
   "source": [
    "### 14. Which actor appeared in the most films in the 1990's decade?"
   ]
  },
  {
   "cell_type": "code",
   "execution_count": 56,
   "id": "ed10c4df",
   "metadata": {},
   "outputs": [
    {
     "name": "stdout",
     "output_type": "stream",
     "text": [
      "name\n",
      "Shakti Kapoor    130\n",
      "Name: title, dtype: int64\n"
     ]
    }
   ],
   "source": [
    "actors_90s = cast[(cast[\"type\"] == \"actor\") & (cast[\"year\"] >= 1990) & (cast[\"year\"] <= 1999)]\n",
    "counts = actors_90s.groupby(\"name\")[\"title\"].nunique().sort_values(ascending=False)\n",
    "\n",
    "print(counts.head(1))"
   ]
  },
  {
   "cell_type": "markdown",
   "id": "b2d57a18",
   "metadata": {},
   "source": [
    "### 15. What are the top 10 roles that start with Science?"
   ]
  },
  {
   "cell_type": "code",
   "execution_count": 60,
   "id": "64b41362",
   "metadata": {},
   "outputs": [
    {
     "name": "stdout",
     "output_type": "stream",
     "text": [
      "character\n",
      "Science Teacher         57\n",
      "Science Fair Student     9\n",
      "Science Student          6\n",
      "Science Fair Judge       6\n",
      "Science Kid              5\n",
      "Science Fair Kid         5\n",
      "Science Reporter         5\n",
      "Science                  4\n",
      "Science Officer          3\n",
      "Science teacher          3\n",
      "Name: count, dtype: int64\n"
     ]
    }
   ],
   "source": [
    "mask = cast[\"character\"].astype(str).str.startswith(\"Science\")\n",
    "print(cast.loc[mask, \"character\"].value_counts().head(10))"
   ]
  },
  {
   "cell_type": "markdown",
   "id": "7e37caf3",
   "metadata": {},
   "source": [
    "### 16. What film has the largest cast"
   ]
  },
  {
   "cell_type": "code",
   "execution_count": 63,
   "id": "1de674fc",
   "metadata": {},
   "outputs": [
    {
     "name": "stdout",
     "output_type": "stream",
     "text": [
      "Film with the largest cast:\n",
      "title                        year\n",
      "Around the World in 80 Days  1956    1299\n",
      "Name: name, dtype: int64\n"
     ]
    }
   ],
   "source": [
    "cast_sizes = cast.groupby([\"title\", \"year\"])[\"name\"].nunique()\n",
    "largest_cast = cast_sizes.sort_values(ascending=False).head(1)\n",
    "\n",
    "print(\"Film with the largest cast:\")\n",
    "print(largest_cast)"
   ]
  },
  {
   "cell_type": "markdown",
   "id": "3a1a26ba",
   "metadata": {},
   "source": [
    "### 17. Generate descriptive statistics for cast size. Briefly comment on the results"
   ]
  },
  {
   "cell_type": "code",
   "execution_count": 66,
   "id": "b0592c92",
   "metadata": {},
   "outputs": [
    {
     "name": "stdout",
     "output_type": "stream",
     "text": [
      "count    182497.000000\n",
      "mean         18.553620\n",
      "std          20.699481\n",
      "min           1.000000\n",
      "25%           6.000000\n",
      "50%          12.000000\n",
      "75%          24.000000\n",
      "max        1299.000000\n",
      "Name: name, dtype: float64\n"
     ]
    }
   ],
   "source": [
    "cast_size = cast.groupby([\"title\", \"year\"])[\"name\"].nunique()\n",
    "\n",
    "print(cast_size.describe())"
   ]
  },
  {
   "cell_type": "markdown",
   "id": "d8a1a47c-9b6c-4d03-aadb-5a8d0d404826",
   "metadata": {},
   "source": [
    "The average film cast size is around 19 actors, but the median is only 12, which means that most films have relatively small casts. However, the maximum cast size is extremely large (1299), which shows that a few films include a huge numbers of credited roles. Most movies have small to medium casts and only a small number have very large casts."
   ]
  },
  {
   "cell_type": "markdown",
   "id": "57885f86",
   "metadata": {},
   "source": [
    "### 18. How many films has Natalie Portman been in in each year throughout her career?"
   ]
  },
  {
   "cell_type": "code",
   "execution_count": 70,
   "id": "e2457352",
   "metadata": {},
   "outputs": [
    {
     "name": "stdout",
     "output_type": "stream",
     "text": [
      "year\n",
      "1995    1\n",
      "1996    3\n",
      "1999    2\n",
      "2000    1\n",
      "2001    1\n",
      "2002    1\n",
      "2003    1\n",
      "2004    2\n",
      "2005    4\n",
      "2006    1\n",
      "2007    3\n",
      "2008    1\n",
      "2009    2\n",
      "2010    3\n",
      "2011    3\n",
      "2013    1\n",
      "2015    4\n",
      "2016    3\n",
      "2017    1\n",
      "Name: title, dtype: int64\n"
     ]
    }
   ],
   "source": [
    "np_films = (\n",
    "    cast[cast[\"name\"] == \"Natalie Portman\"]\n",
    "    .groupby(\"year\")[\"title\"]\n",
    "    .nunique()\n",
    "    .sort_index()\n",
    ")\n",
    "\n",
    "print(np_films)"
   ]
  },
  {
   "cell_type": "markdown",
   "id": "1bff19c5",
   "metadata": {},
   "source": [
    "### 19. How many films did Natalie Portman appear in each year where where she was either the top star or co-star?"
   ]
  },
  {
   "cell_type": "code",
   "execution_count": 73,
   "id": "e2f4d043",
   "metadata": {},
   "outputs": [
    {
     "name": "stdout",
     "output_type": "stream",
     "text": [
      "year\n",
      "1999    1\n",
      "2000    1\n",
      "2002    1\n",
      "2005    3\n",
      "2006    1\n",
      "2007    1\n",
      "2008    1\n",
      "2009    1\n",
      "2010    1\n",
      "2011    2\n",
      "2013    1\n",
      "2015    2\n",
      "2016    2\n",
      "Name: title, dtype: int64\n"
     ]
    }
   ],
   "source": [
    "print(\n",
    "    cast[(cast[\"name\"] == \"Natalie Portman\") & ((cast[\"n\"] == 1.0) | (cast[\"n\"] == 2.0))]\n",
    "        .groupby(\"year\")[\"title\"].nunique()\n",
    "        .sort_index()\n",
    ")"
   ]
  },
  {
   "cell_type": "markdown",
   "id": "8eda704b",
   "metadata": {},
   "source": [
    "### 20. Determine how many roles for actor or actress by decade. Plot the output "
   ]
  },
  {
   "cell_type": "code",
   "execution_count": 76,
   "id": "6abd6fe1",
   "metadata": {},
   "outputs": [
    {
     "name": "stdout",
     "output_type": "stream",
     "text": [
      "decade\n",
      "1890          3\n",
      "1900         70\n",
      "1910      43129\n",
      "1920      71938\n",
      "1930     198570\n",
      "1940     210670\n",
      "1950     209890\n",
      "1960     182616\n",
      "1970     202992\n",
      "1980     257683\n",
      "1990     361218\n",
      "2000     676027\n",
      "2010    1027836\n",
      "2020        257\n",
      "2110          3\n",
      "dtype: int64\n"
     ]
    },
    {
     "data": {
      "image/png": "[encoded data removed]",
      "text/plain": [
       "<Figure size 640x480 with 1 Axes>"
      ]
     },
     "metadata": {},
     "output_type": "display_data"
    }
   ],
   "source": [
    "aa = cast[(cast[\"type\"] == \"actor\") | (cast[\"type\"] == \"actress\")]\n",
    "\n",
    "# Decade and counts\n",
    "aa[\"decade\"] = (aa[\"year\"] // 10) * 10\n",
    "counts = aa.groupby(\"decade\").size().sort_index()\n",
    "\n",
    "print(counts)\n",
    "\n",
    "# Plotting graph\n",
    "counts.plot(kind=\"bar\")\n",
    "plt.title(\"Actor/Actress Roles by Decade\")\n",
    "plt.xlabel(\"Decade\"); plt.ylabel(\"Number of Roles\")\n",
    "plt.xticks(rotation=45)\n",
    "plt.tight_layout()\n",
    "plt.show()"
   ]
  },
  {
   "cell_type": "code",
   "execution_count": 78,
   "id": "cb856525-c5d6-444f-baba-5320ea135fdb",
   "metadata": {},
   "outputs": [
    {
     "data": {
      "text/plain": [
       "<Axes: xlabel='decade'>"
      ]
     },
     "execution_count": 78,
     "metadata": {},
     "output_type": "execute_result"
    },
    {
     "data": {
      "image/png": "[encoded data removed]",
      "text/plain": [
       "<Figure size 640x480 with 1 Axes>"
      ]
     },
     "metadata": {},
     "output_type": "display_data"
    }
   ],
   "source": [
    "# Removing future data entry for 2110\n",
    "counts = counts[counts.index <= 2020]\n",
    "counts.plot(kind=\"bar\")"
   ]
  },
  {
   "cell_type": "markdown",
   "id": "fffe663b",
   "metadata": {},
   "source": [
    "### 21. Determine and comment on the day of the week that movies are released. What is notable about release days and months throughout the year? (Use pd.pivot_table)"
   ]
  },
  {
   "cell_type": "code",
   "execution_count": 81,
   "id": "b1c37321-57e2-40b7-882f-cf46f4ab5786",
   "metadata": {},
   "outputs": [
    {
     "data": {
      "text/html": [
       "<div>\n",
       "<style scoped>\n",
       "    .dataframe tbody tr th:only-of-type {\n",
       "        vertical-align: middle;\n",
       "    }\n",
       "\n",
       "    .dataframe tbody tr th {\n",
       "        vertical-align: top;\n",
       "    }\n",
       "\n",
       "    .dataframe thead th {\n",
       "        text-align: right;\n",
       "    }\n",
       "</style>\n",
       "<table border=\"1\" class=\"dataframe\">\n",
       "  <thead>\n",
       "    <tr style=\"text-align: right;\">\n",
       "      <th></th>\n",
       "      <th>title</th>\n",
       "      <th>year</th>\n",
       "      <th>country</th>\n",
       "    </tr>\n",
       "    <tr>\n",
       "      <th>date</th>\n",
       "      <th></th>\n",
       "      <th></th>\n",
       "      <th></th>\n",
       "    </tr>\n",
       "  </thead>\n",
       "  <tbody>\n",
       "    <tr>\n",
       "      <th>2007-06-15</th>\n",
       "      <td>#73, Shaanthi Nivaasa</td>\n",
       "      <td>2007</td>\n",
       "      <td>India</td>\n",
       "    </tr>\n",
       "    <tr>\n",
       "      <th>2017-10-12</th>\n",
       "      <td>#BKKY</td>\n",
       "      <td>2016</td>\n",
       "      <td>Cambodia</td>\n",
       "    </tr>\n",
       "    <tr>\n",
       "      <th>2015-01-29</th>\n",
       "      <td>#Beings</td>\n",
       "      <td>2015</td>\n",
       "      <td>Romania</td>\n",
       "    </tr>\n",
       "    <tr>\n",
       "      <th>2017-09-05</th>\n",
       "      <td>#Captured</td>\n",
       "      <td>2017</td>\n",
       "      <td>USA</td>\n",
       "    </tr>\n",
       "    <tr>\n",
       "      <th>2015-01-21</th>\n",
       "      <td>#Ewankosau saranghaeyo</td>\n",
       "      <td>2015</td>\n",
       "      <td>Philippines</td>\n",
       "    </tr>\n",
       "    <tr>\n",
       "      <th>...</th>\n",
       "      <td>...</td>\n",
       "      <td>...</td>\n",
       "      <td>...</td>\n",
       "    </tr>\n",
       "    <tr>\n",
       "      <th>2005-04-29</th>\n",
       "      <td>xXx: State of the Union</td>\n",
       "      <td>2005</td>\n",
       "      <td>Uruguay</td>\n",
       "    </tr>\n",
       "    <tr>\n",
       "      <th>2005-06-03</th>\n",
       "      <td>xXx: State of the Union</td>\n",
       "      <td>2005</td>\n",
       "      <td>Poland</td>\n",
       "    </tr>\n",
       "    <tr>\n",
       "      <th>2005-06-03</th>\n",
       "      <td>xXx: State of the Union</td>\n",
       "      <td>2005</td>\n",
       "      <td>Turkey</td>\n",
       "    </tr>\n",
       "    <tr>\n",
       "      <th>2005-06-17</th>\n",
       "      <td>xXx: State of the Union</td>\n",
       "      <td>2005</td>\n",
       "      <td>China</td>\n",
       "    </tr>\n",
       "    <tr>\n",
       "      <th>2005-06-24</th>\n",
       "      <td>xXx: State of the Union</td>\n",
       "      <td>2005</td>\n",
       "      <td>Greece</td>\n",
       "    </tr>\n",
       "  </tbody>\n",
       "</table>\n",
       "<p>443486 rows × 3 columns</p>\n",
       "</div>"
      ],
      "text/plain": [
       "                              title  year      country\n",
       "date                                                  \n",
       "2007-06-15    #73, Shaanthi Nivaasa  2007        India\n",
       "2017-10-12                    #BKKY  2016     Cambodia\n",
       "2015-01-29                  #Beings  2015      Romania\n",
       "2017-09-05                #Captured  2017          USA\n",
       "2015-01-21   #Ewankosau saranghaeyo  2015  Philippines\n",
       "...                             ...   ...          ...\n",
       "2005-04-29  xXx: State of the Union  2005      Uruguay\n",
       "2005-06-03  xXx: State of the Union  2005       Poland\n",
       "2005-06-03  xXx: State of the Union  2005       Turkey\n",
       "2005-06-17  xXx: State of the Union  2005        China\n",
       "2005-06-24  xXx: State of the Union  2005       Greece\n",
       "\n",
       "[443486 rows x 3 columns]"
      ]
     },
     "execution_count": 81,
     "metadata": {},
     "output_type": "execute_result"
    }
   ],
   "source": [
    "release = pd.read_csv('release_dates.csv')\n",
    "\n",
    "release['date'] = pd.to_datetime(release['date'], errors='coerce')\n",
    "release = release[release['date'].notna()].set_index('date')\n",
    "release"
   ]
  },
  {
   "cell_type": "markdown",
   "id": "cad48732-5d0f-4495-bab3-a9a65ab38d84",
   "metadata": {},
   "source": [
    "This table counts every release record, so movies may appear more than once.  ",
    "Releases happen mostly on Fridays, followed by Thursdays and Wednesdays, which aligns with studios targeting weekend revenue. ",
    " Sundays have the fewest releases, as they fall at the end of the weekend when audience turnout is low.\n",
    "\n",
    "Across months, release activity is fairly spread out, but it is generally higher in January, March, October, and December, while summer months like July and August have fewer releases."
   ]
  },
  {
   "cell_type": "markdown",
   "id": "88b4b805",
   "metadata": {},
   "source": [
    "### 22. Can you plot the pivot table? Is the output \"correct\"? Can you fix it?"
   ]
  },
  {
   "cell_type": "code",
   "execution_count": 85,
   "id": "81a08124-625d-431a-95da-071114edb76e",
   "metadata": {},
   "outputs": [
    {
     "data": {
      "text/plain": [
       "<Axes: xlabel='date'>"
      ]
     },
     "execution_count": 85,
     "metadata": {},
     "output_type": "execute_result"
    },
    {
     "data": {
      "image/png": "[encoded data removed]",
      "text/plain": [
       "<Figure size 640x480 with 1 Axes>"
      ]
     },
     "metadata": {},
     "output_type": "display_data"
    }
   ],
   "source": [
    "pd.pivot_table(release, index=release.index.month_name(), columns=release.index.day_name(), aggfunc='size').plot()"
   ]
  },
  {
   "cell_type": "markdown",
   "id": "0ff952e5-41f1-465f-82ea-9eec29c654f7",
   "metadata": {},
   "source": [
    "The plot is not correct because it counts every release entry, including re-releases and international release dates, so many movies are counted multiple times. This means the chart shows release activity, not the number of unique films released. Also, the months are not in calendar order, which makes the line chart visually misleading."
   ]
  },
  {
   "cell_type": "code",
   "execution_count": 88,
   "id": "909bffd3-27f2-4f04-99d7-c969483c2737",
   "metadata": {},
   "outputs": [
    {
     "data": {
      "text/plain": [
       "<Axes: title={'center': 'First Releases by Month and Day of Week'}, xlabel='date'>"
      ]
     },
     "execution_count": 88,
     "metadata": {},
     "output_type": "execute_result"
    },
    {
     "data": {
      "image/png": "[encoded data removed]",
      "text/plain": [
       "<Figure size 640x480 with 1 Axes>"
      ]
     },
     "metadata": {},
     "output_type": "display_data"
    }
   ],
   "source": [
    "# Correcting data and graphing\n",
    "cutoff = pd.Timestamp('today')\n",
    "r = pd.read_csv('release_dates.csv')\n",
    "r['date'] = pd.to_datetime(r['date'], errors='coerce')\n",
    "first = (r[r['date'].notna() & (r['date'] <= cutoff)]\n",
    "         .dropna(subset=['year'])\n",
    "         .sort_values('date')\n",
    "         .groupby(['title','year'], as_index=False)['date'].first()\n",
    "         .set_index('date'))\n",
    "\n",
    "day_order   = ['Monday','Tuesday','Wednesday','Thursday','Friday','Saturday','Sunday']\n",
    "month_order = ['January','February','March','April','May','June','July','August','September','October','November','December']\n",
    "\n",
    "pivot = (pd.pivot_table(first, values= 'title',\n",
    "                        index=first.index.month_name(),\n",
    "                        columns=first.index.day_name(),\n",
    "                        aggfunc='count')\n",
    "         .reindex(index=month_order, columns=day_order))\n",
    "\n",
    "\n",
    "pivot.plot(rot=45, title='First Releases by Month and Day of Week')"
   ]
  },
  {
   "cell_type": "markdown",
   "id": "23867df6-a7b2-4703-989f-033151832df7",
   "metadata": {},
   "source": [
    "This corrected chart counts each film only once and is based on its first release date, so it shows when movies actually tend to be released rather than when they were re-issued or distributed. After removing duplicates, the pattern remains consistent: Friday is the most common release day, with Thursday also frequently used for early premieres. Sunday continues to be the least common release day.\n",
    "\n",
    "Across months, releases are more concentrated in January, March, September, and November, which align with post-holiday openings, festival/awards season rollouts, and the lead-up to the holiday movie market. In contrast, July shows fewer first releases, reflecting that summer tends to focus on a few large blockbuster titles rather than many new releases."
   ]
  },
  {
   "cell_type": "markdown",
   "id": "19fc8bc4",
   "metadata": {},
   "source": [
    "### 23. What films did actors in Star Wars go on to appear in? "
   ]
  },
  {
   "cell_type": "code",
   "execution_count": 106,
   "id": "8870b079-a682-473c-a633-17537e1bb29b",
   "metadata": {},
   "outputs": [
    {
     "data": {
      "text/html": [
       "<div>\n",
       "<style scoped>\n",
       "    .dataframe tbody tr th:only-of-type {\n",
       "        vertical-align: middle;\n",
       "    }\n",
       "\n",
       "    .dataframe tbody tr th {\n",
       "        vertical-align: top;\n",
       "    }\n",
       "\n",
       "    .dataframe thead th {\n",
       "        text-align: right;\n",
       "    }\n",
       "</style>\n",
       "<table border=\"1\" class=\"dataframe\">\n",
       "  <thead>\n",
       "    <tr style=\"text-align: right;\">\n",
       "      <th></th>\n",
       "      <th>name</th>\n",
       "    </tr>\n",
       "  </thead>\n",
       "  <tbody>\n",
       "    <tr>\n",
       "      <th>59909</th>\n",
       "      <td>David Ankrum</td>\n",
       "    </tr>\n",
       "    <tr>\n",
       "      <th>82411</th>\n",
       "      <td>Graham Ashley</td>\n",
       "    </tr>\n",
       "    <tr>\n",
       "      <th>91760</th>\n",
       "      <td>Mark Anthony Austin</td>\n",
       "    </tr>\n",
       "    <tr>\n",
       "      <th>110035</th>\n",
       "      <td>Kenny Baker</td>\n",
       "    </tr>\n",
       "    <tr>\n",
       "      <th>145346</th>\n",
       "      <td>Scott Beach</td>\n",
       "    </tr>\n",
       "    <tr>\n",
       "      <th>...</th>\n",
       "      <td>...</td>\n",
       "    </tr>\n",
       "    <tr>\n",
       "      <th>3028315</th>\n",
       "      <td>Mandy Morton</td>\n",
       "    </tr>\n",
       "    <tr>\n",
       "      <th>3185175</th>\n",
       "      <td>Pam Rose</td>\n",
       "    </tr>\n",
       "    <tr>\n",
       "      <th>3252538</th>\n",
       "      <td>Erica Simmons</td>\n",
       "    </tr>\n",
       "    <tr>\n",
       "      <th>3277739</th>\n",
       "      <td>Angela Staines</td>\n",
       "    </tr>\n",
       "    <tr>\n",
       "      <th>3389708</th>\n",
       "      <td>Diana Sadley Way</td>\n",
       "    </tr>\n",
       "  </tbody>\n",
       "</table>\n",
       "<p>104 rows × 1 columns</p>\n",
       "</div>"
      ],
      "text/plain": [
       "                        name\n",
       "59909           David Ankrum\n",
       "82411          Graham Ashley\n",
       "91760    Mark Anthony Austin\n",
       "110035           Kenny Baker\n",
       "145346           Scott Beach\n",
       "...                      ...\n",
       "3028315         Mandy Morton\n",
       "3185175             Pam Rose\n",
       "3252538        Erica Simmons\n",
       "3277739       Angela Staines\n",
       "3389708     Diana Sadley Way\n",
       "\n",
       "[104 rows x 1 columns]"
      ]
     },
     "execution_count": 106,
     "metadata": {},
     "output_type": "execute_result"
    }
   ],
   "source": [
    "sw77 = (cast[(cast[\"title\"] == \"Star Wars\") & (cast[\"year\"] == 1977) & \n",
    "             (cast[\"type\"].isin([\"actor\", \"actress\"]))][[\"name\"]]\n",
    "        .drop_duplicates())\n",
    "sw77"
   ]
  },
  {
   "cell_type": "code",
   "execution_count": 104,
   "id": "7ffa5247-2b7e-43dc-92d4-95d1c614173c",
   "metadata": {},
   "outputs": [
    {
     "data": {
      "text/html": [
       "<div>\n",
       "<style scoped>\n",
       "    .dataframe tbody tr th:only-of-type {\n",
       "        vertical-align: middle;\n",
       "    }\n",
       "\n",
       "    .dataframe tbody tr th {\n",
       "        vertical-align: top;\n",
       "    }\n",
       "\n",
       "    .dataframe thead th {\n",
       "        text-align: right;\n",
       "    }\n",
       "</style>\n",
       "<table border=\"1\" class=\"dataframe\">\n",
       "  <thead>\n",
       "    <tr style=\"text-align: right;\">\n",
       "      <th></th>\n",
       "      <th>name</th>\n",
       "      <th>year</th>\n",
       "      <th>title</th>\n",
       "    </tr>\n",
       "  </thead>\n",
       "  <tbody>\n",
       "    <tr>\n",
       "      <th>795</th>\n",
       "      <td>Al Lampert</td>\n",
       "      <td>1979</td>\n",
       "      <td>Licensed to Love and Kill</td>\n",
       "    </tr>\n",
       "    <tr>\n",
       "      <th>798</th>\n",
       "      <td>Al Lampert</td>\n",
       "      <td>1979</td>\n",
       "      <td>The Spaceman and King Arthur</td>\n",
       "    </tr>\n",
       "    <tr>\n",
       "      <th>797</th>\n",
       "      <td>Al Lampert</td>\n",
       "      <td>1984</td>\n",
       "      <td>The Killing Edge</td>\n",
       "    </tr>\n",
       "    <tr>\n",
       "      <th>616</th>\n",
       "      <td>Alan (III) Harris</td>\n",
       "      <td>1978</td>\n",
       "      <td>Superman</td>\n",
       "    </tr>\n",
       "    <tr>\n",
       "      <th>611</th>\n",
       "      <td>Alan (III) Harris</td>\n",
       "      <td>1979</td>\n",
       "      <td>Squeeze Play</td>\n",
       "    </tr>\n",
       "    <tr>\n",
       "      <th>613</th>\n",
       "      <td>Alan (III) Harris</td>\n",
       "      <td>1980</td>\n",
       "      <td>Star Wars: Episode V - The Empire Strikes Back</td>\n",
       "    </tr>\n",
       "    <tr>\n",
       "      <th>621</th>\n",
       "      <td>Alan (III) Harris</td>\n",
       "      <td>1982</td>\n",
       "      <td>Who Dares Wins</td>\n",
       "    </tr>\n",
       "    <tr>\n",
       "      <th>603</th>\n",
       "      <td>Alan (III) Harris</td>\n",
       "      <td>1983</td>\n",
       "      <td>Bullshot</td>\n",
       "    </tr>\n",
       "    <tr>\n",
       "      <th>615</th>\n",
       "      <td>Alan (III) Harris</td>\n",
       "      <td>1983</td>\n",
       "      <td>Star Wars: Episode VI - Return of the Jedi</td>\n",
       "    </tr>\n",
       "    <tr>\n",
       "      <th>620</th>\n",
       "      <td>Alan (III) Harris</td>\n",
       "      <td>1984</td>\n",
       "      <td>Top Secret!</td>\n",
       "    </tr>\n",
       "    <tr>\n",
       "      <th>607</th>\n",
       "      <td>Alan (III) Harris</td>\n",
       "      <td>1985</td>\n",
       "      <td>Morons from Outer Space</td>\n",
       "    </tr>\n",
       "    <tr>\n",
       "      <th>618</th>\n",
       "      <td>Alan (III) Harris</td>\n",
       "      <td>1987</td>\n",
       "      <td>The Living Daylights</td>\n",
       "    </tr>\n",
       "    <tr>\n",
       "      <th>485</th>\n",
       "      <td>Alec Guinness</td>\n",
       "      <td>1980</td>\n",
       "      <td>Raise the Titanic</td>\n",
       "    </tr>\n",
       "    <tr>\n",
       "      <th>489</th>\n",
       "      <td>Alec Guinness</td>\n",
       "      <td>1980</td>\n",
       "      <td>Star Wars: Episode V - The Empire Strikes Back</td>\n",
       "    </tr>\n",
       "    <tr>\n",
       "      <th>480</th>\n",
       "      <td>Alec Guinness</td>\n",
       "      <td>1983</td>\n",
       "      <td>Lovesick</td>\n",
       "    </tr>\n",
       "    <tr>\n",
       "      <th>490</th>\n",
       "      <td>Alec Guinness</td>\n",
       "      <td>1983</td>\n",
       "      <td>Star Wars: Episode VI - Return of the Jedi</td>\n",
       "    </tr>\n",
       "    <tr>\n",
       "      <th>456</th>\n",
       "      <td>Alec Guinness</td>\n",
       "      <td>1984</td>\n",
       "      <td>A Passage to India</td>\n",
       "    </tr>\n",
       "    <tr>\n",
       "      <th>479</th>\n",
       "      <td>Alec Guinness</td>\n",
       "      <td>1987</td>\n",
       "      <td>Little Dorrit</td>\n",
       "    </tr>\n",
       "    <tr>\n",
       "      <th>454</th>\n",
       "      <td>Alec Guinness</td>\n",
       "      <td>1988</td>\n",
       "      <td>A Handful of Dust</td>\n",
       "    </tr>\n",
       "    <tr>\n",
       "      <th>468</th>\n",
       "      <td>Alec Guinness</td>\n",
       "      <td>1991</td>\n",
       "      <td>Kafka</td>\n",
       "    </tr>\n",
       "    <tr>\n",
       "      <th>491</th>\n",
       "      <td>Alec Guinness</td>\n",
       "      <td>2015</td>\n",
       "      <td>Star Wars: Episode VII - The Force Awakens</td>\n",
       "    </tr>\n",
       "    <tr>\n",
       "      <th>944</th>\n",
       "      <td>Alex McCrindle</td>\n",
       "      <td>1978</td>\n",
       "      <td>The Peregrine Hunters</td>\n",
       "    </tr>\n",
       "    <tr>\n",
       "      <th>938</th>\n",
       "      <td>Alex McCrindle</td>\n",
       "      <td>1981</td>\n",
       "      <td>Eye of the Needle</td>\n",
       "    </tr>\n",
       "    <tr>\n",
       "      <th>936</th>\n",
       "      <td>Alex McCrindle</td>\n",
       "      <td>1986</td>\n",
       "      <td>Comrades</td>\n",
       "    </tr>\n",
       "    <tr>\n",
       "      <th>902</th>\n",
       "      <td>Alf Mangan</td>\n",
       "      <td>1979</td>\n",
       "      <td>Arabian Adventure</td>\n",
       "    </tr>\n",
       "    <tr>\n",
       "      <th>911</th>\n",
       "      <td>Alf Mangan</td>\n",
       "      <td>1981</td>\n",
       "      <td>Dragonslayer</td>\n",
       "    </tr>\n",
       "    <tr>\n",
       "      <th>187</th>\n",
       "      <td>Alfie Curtis</td>\n",
       "      <td>1980</td>\n",
       "      <td>The Elephant Man</td>\n",
       "    </tr>\n",
       "    <tr>\n",
       "      <th>188</th>\n",
       "      <td>Alfie Curtis</td>\n",
       "      <td>1980</td>\n",
       "      <td>The Wildcats of St. Trinian's</td>\n",
       "    </tr>\n",
       "    <tr>\n",
       "      <th>879</th>\n",
       "      <td>Angus MacInnes</td>\n",
       "      <td>1978</td>\n",
       "      <td>Force 10 from Navarone</td>\n",
       "    </tr>\n",
       "    <tr>\n",
       "      <th>872</th>\n",
       "      <td>Angus MacInnes</td>\n",
       "      <td>1980</td>\n",
       "      <td>Atlantic City, USA</td>\n",
       "    </tr>\n",
       "    <tr>\n",
       "      <th>885</th>\n",
       "      <td>Angus MacInnes</td>\n",
       "      <td>1980</td>\n",
       "      <td>Nothing Personal</td>\n",
       "    </tr>\n",
       "    <tr>\n",
       "      <th>893</th>\n",
       "      <td>Angus MacInnes</td>\n",
       "      <td>1980</td>\n",
       "      <td>Superman II</td>\n",
       "    </tr>\n",
       "    <tr>\n",
       "      <th>876</th>\n",
       "      <td>Angus MacInnes</td>\n",
       "      <td>1981</td>\n",
       "      <td>Dirty Tricks</td>\n",
       "    </tr>\n",
       "    <tr>\n",
       "      <th>887</th>\n",
       "      <td>Angus MacInnes</td>\n",
       "      <td>1981</td>\n",
       "      <td>Outland</td>\n",
       "    </tr>\n",
       "    <tr>\n",
       "      <th>883</th>\n",
       "      <td>Angus MacInnes</td>\n",
       "      <td>1982</td>\n",
       "      <td>If You Could See What I Hear</td>\n",
       "    </tr>\n",
       "    <tr>\n",
       "      <th>895</th>\n",
       "      <td>Angus MacInnes</td>\n",
       "      <td>1983</td>\n",
       "      <td>The Adventures of Bob &amp; Doug McKenzie: Strange...</td>\n",
       "    </tr>\n",
       "    <tr>\n",
       "      <th>873</th>\n",
       "      <td>Angus MacInnes</td>\n",
       "      <td>1984</td>\n",
       "      <td>Bedroom Eyes</td>\n",
       "    </tr>\n",
       "    <tr>\n",
       "      <th>874</th>\n",
       "      <td>Angus MacInnes</td>\n",
       "      <td>1984</td>\n",
       "      <td>Best Revenge</td>\n",
       "    </tr>\n",
       "    <tr>\n",
       "      <th>899</th>\n",
       "      <td>Angus MacInnes</td>\n",
       "      <td>1985</td>\n",
       "      <td>Witness</td>\n",
       "    </tr>\n",
       "    <tr>\n",
       "      <th>881</th>\n",
       "      <td>Angus MacInnes</td>\n",
       "      <td>1986</td>\n",
       "      <td>Half Moon Street</td>\n",
       "    </tr>\n",
       "    <tr>\n",
       "      <th>882</th>\n",
       "      <td>Angus MacInnes</td>\n",
       "      <td>1988</td>\n",
       "      <td>Honor Bound</td>\n",
       "    </tr>\n",
       "    <tr>\n",
       "      <th>880</th>\n",
       "      <td>Angus MacInnes</td>\n",
       "      <td>1989</td>\n",
       "      <td>Gross Anatomy</td>\n",
       "    </tr>\n",
       "    <tr>\n",
       "      <th>898</th>\n",
       "      <td>Angus MacInnes</td>\n",
       "      <td>1990</td>\n",
       "      <td>The Krays</td>\n",
       "    </tr>\n",
       "    <tr>\n",
       "      <th>891</th>\n",
       "      <td>Angus MacInnes</td>\n",
       "      <td>1992</td>\n",
       "      <td>Spies Inc.</td>\n",
       "    </tr>\n",
       "    <tr>\n",
       "      <th>884</th>\n",
       "      <td>Angus MacInnes</td>\n",
       "      <td>1995</td>\n",
       "      <td>Judge Dredd</td>\n",
       "    </tr>\n",
       "    <tr>\n",
       "      <th>878</th>\n",
       "      <td>Angus MacInnes</td>\n",
       "      <td>1999</td>\n",
       "      <td>Eyes Wide Shut</td>\n",
       "    </tr>\n",
       "    <tr>\n",
       "      <th>886</th>\n",
       "      <td>Angus MacInnes</td>\n",
       "      <td>1999</td>\n",
       "      <td>Operation Delta Force 4: Deep Fault</td>\n",
       "    </tr>\n",
       "    <tr>\n",
       "      <th>888</th>\n",
       "      <td>Angus MacInnes</td>\n",
       "      <td>2000</td>\n",
       "      <td>Rhythm &amp; Blues</td>\n",
       "    </tr>\n",
       "    <tr>\n",
       "      <th>877</th>\n",
       "      <td>Angus MacInnes</td>\n",
       "      <td>2001</td>\n",
       "      <td>Enigma</td>\n",
       "    </tr>\n",
       "    <tr>\n",
       "      <th>894</th>\n",
       "      <td>Angus MacInnes</td>\n",
       "      <td>2001</td>\n",
       "      <td>The 51st State</td>\n",
       "    </tr>\n",
       "  </tbody>\n",
       "</table>\n",
       "</div>"
      ],
      "text/plain": [
       "                  name  year  \\\n",
       "795         Al Lampert  1979   \n",
       "798         Al Lampert  1979   \n",
       "797         Al Lampert  1984   \n",
       "616  Alan (III) Harris  1978   \n",
       "611  Alan (III) Harris  1979   \n",
       "613  Alan (III) Harris  1980   \n",
       "621  Alan (III) Harris  1982   \n",
       "603  Alan (III) Harris  1983   \n",
       "615  Alan (III) Harris  1983   \n",
       "620  Alan (III) Harris  1984   \n",
       "607  Alan (III) Harris  1985   \n",
       "618  Alan (III) Harris  1987   \n",
       "485      Alec Guinness  1980   \n",
       "489      Alec Guinness  1980   \n",
       "480      Alec Guinness  1983   \n",
       "490      Alec Guinness  1983   \n",
       "456      Alec Guinness  1984   \n",
       "479      Alec Guinness  1987   \n",
       "454      Alec Guinness  1988   \n",
       "468      Alec Guinness  1991   \n",
       "491      Alec Guinness  2015   \n",
       "944     Alex McCrindle  1978   \n",
       "938     Alex McCrindle  1981   \n",
       "936     Alex McCrindle  1986   \n",
       "902         Alf Mangan  1979   \n",
       "911         Alf Mangan  1981   \n",
       "187       Alfie Curtis  1980   \n",
       "188       Alfie Curtis  1980   \n",
       "879     Angus MacInnes  1978   \n",
       "872     Angus MacInnes  1980   \n",
       "885     Angus MacInnes  1980   \n",
       "893     Angus MacInnes  1980   \n",
       "876     Angus MacInnes  1981   \n",
       "887     Angus MacInnes  1981   \n",
       "883     Angus MacInnes  1982   \n",
       "895     Angus MacInnes  1983   \n",
       "873     Angus MacInnes  1984   \n",
       "874     Angus MacInnes  1984   \n",
       "899     Angus MacInnes  1985   \n",
       "881     Angus MacInnes  1986   \n",
       "882     Angus MacInnes  1988   \n",
       "880     Angus MacInnes  1989   \n",
       "898     Angus MacInnes  1990   \n",
       "891     Angus MacInnes  1992   \n",
       "884     Angus MacInnes  1995   \n",
       "878     Angus MacInnes  1999   \n",
       "886     Angus MacInnes  1999   \n",
       "888     Angus MacInnes  2000   \n",
       "877     Angus MacInnes  2001   \n",
       "894     Angus MacInnes  2001   \n",
       "\n",
       "                                                 title  \n",
       "795                          Licensed to Love and Kill  \n",
       "798                       The Spaceman and King Arthur  \n",
       "797                                   The Killing Edge  \n",
       "616                                           Superman  \n",
       "611                                       Squeeze Play  \n",
       "613     Star Wars: Episode V - The Empire Strikes Back  \n",
       "621                                     Who Dares Wins  \n",
       "603                                           Bullshot  \n",
       "615         Star Wars: Episode VI - Return of the Jedi  \n",
       "620                                        Top Secret!  \n",
       "607                            Morons from Outer Space  \n",
       "618                               The Living Daylights  \n",
       "485                                  Raise the Titanic  \n",
       "489     Star Wars: Episode V - The Empire Strikes Back  \n",
       "480                                           Lovesick  \n",
       "490         Star Wars: Episode VI - Return of the Jedi  \n",
       "456                                 A Passage to India  \n",
       "479                                      Little Dorrit  \n",
       "454                                  A Handful of Dust  \n",
       "468                                              Kafka  \n",
       "491         Star Wars: Episode VII - The Force Awakens  \n",
       "944                              The Peregrine Hunters  \n",
       "938                                  Eye of the Needle  \n",
       "936                                           Comrades  \n",
       "902                                  Arabian Adventure  \n",
       "911                                       Dragonslayer  \n",
       "187                                   The Elephant Man  \n",
       "188                      The Wildcats of St. Trinian's  \n",
       "879                             Force 10 from Navarone  \n",
       "872                                 Atlantic City, USA  \n",
       "885                                   Nothing Personal  \n",
       "893                                        Superman II  \n",
       "876                                       Dirty Tricks  \n",
       "887                                            Outland  \n",
       "883                       If You Could See What I Hear  \n",
       "895  The Adventures of Bob & Doug McKenzie: Strange...  \n",
       "873                                       Bedroom Eyes  \n",
       "874                                       Best Revenge  \n",
       "899                                            Witness  \n",
       "881                                   Half Moon Street  \n",
       "882                                        Honor Bound  \n",
       "880                                      Gross Anatomy  \n",
       "898                                          The Krays  \n",
       "891                                         Spies Inc.  \n",
       "884                                        Judge Dredd  \n",
       "878                                     Eyes Wide Shut  \n",
       "886                Operation Delta Force 4: Deep Fault  \n",
       "888                                     Rhythm & Blues  \n",
       "877                                             Enigma  \n",
       "894                                     The 51st State  "
      ]
     },
     "execution_count": 104,
     "metadata": {},
     "output_type": "execute_result"
    }
   ],
   "source": [
    "future_roles = (cast.merge(sw77, on=\"name\", how=\"inner\")\n",
    "                  .query(\"year > 1977 and type in ['actor','actress']\")\n",
    "                  .drop_duplicates(subset=[\"name\", \"title\", \"year\"])\n",
    "                  .sort_values([\"name\", \"year\"]))\n",
    "\n",
    "# (optional) just show the filmography list\n",
    "future_roles[[\"name\", \"year\", \"title\"]].head(50)"
   ]
  }
 ],
 "metadata": {
  "kernelspec": {
   "display_name": "Python 3 (ipykernel)",
   "language": "python",
   "name": "python3"
  },
  "language_info": {
   "codemirror_mode": {
    "name": "ipython",
    "version": 3
   },
   "file_extension": ".py",
   "mimetype": "text/x-python",
   "name": "python",
   "nbconvert_exporter": "python",
   "pygments_lexer": "ipython3",
   "version": "3.12.4"
  }
 },
 "nbformat": 4,
 "nbformat_minor": 5
}
